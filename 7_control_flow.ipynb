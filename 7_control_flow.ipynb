{
 "cells": [
  {
   "cell_type": "markdown",
   "metadata": {
    "collapsed": false
   },
   "source": [
    "# Control flow\n",
    "The control flow in Python is done using 4 spaces (indentation) to define the block of code that have to be considered. So the space in Python is part of the language and is used to define and change the meaning of the code.\n",
    "\n",
    "The **indentation** (4 spaces) in Python it's important!\n",
    "\n",
    "The main control flows that we will see in this notebook are:\n",
    "* if, elif, else;\n",
    "* for and list-comprehension;\n",
    "* while, break and continue;"
   ]
  },
  {
   "cell_type": "markdown",
   "metadata": {
    "collapsed": false
   },
   "source": [
    "# ```if, elif, else``` Statement\n"
   ]
  },
  {
   "cell_type": "markdown",
   "metadata": {
    "collapsed": false
   },
   "source": [
    "This flow is used to decide what to do when a **boolean evaluation** is verified.\n",
    "Syntax:\n",
    "\n",
    "```python\n",
    "if {condition}:           # <= note the `:`\n",
    "    {do something}\n",
    "elif {condition_1}:      # <= note the `:`\n",
    "    {manage this case}\n",
    "else:                     # <= note the `:`\n",
    "    {do other things}\n",
    "```\n",
    "\n",
    "`elif` or `else` after an `if` statement are optional."
   ]
  },
  {
   "cell_type": "markdown",
   "metadata": {
    "collapsed": false
   },
   "source": [
    "Use an `if` condition to assign a variable:\n",
    "\n",
    "```python\n",
    "{variable} = {value when condition is true} if {condition} else {value condition is false}\n",
    "```"
   ]
  },
  {
   "cell_type": "code",
   "execution_count": 1,
   "metadata": {
    "collapsed": false,
    "pycharm": {
     "name": "#%%\n"
    }
   },
   "outputs": [
    {
     "name": "stdout",
     "output_type": "stream",
     "text": [
      "2 is even!\n"
     ]
    }
   ],
   "source": [
    "# Multiple-line IF\n",
    "\n",
    "number = 2\n",
    "if number % 2:\n",
    "    print(f\"{number} is odd!\")\n",
    "else:\n",
    "    print(f\"{number} is even!\")"
   ]
  },
  {
   "cell_type": "markdown",
   "metadata": {
    "collapsed": false
   },
   "source": [
    "## ```switch/case``` Statement\n",
    "In Python, the switch/case statement does not exist. Instead, `ìf` with multiple `elif` are required."
   ]
  },
  {
   "cell_type": "code",
   "execution_count": 2,
   "metadata": {
    "cocalc": {
     "outputs": {
      "0": {
       "name": "input",
       "opts": {
        "password": false,
        "prompt": "Select your month"
       },
       "output_type": "stream",
       "value": ""
      }
     }
    },
    "collapsed": false,
    "pycharm": {
     "name": "#%%\n"
    }
   },
   "outputs": [
    {
     "name": "stdout",
     "output_type": "stream",
     "text": "Select your month "
    },
    {
     "ename": "ValueError",
     "evalue": "invalid literal for int() with base 10: ''",
     "output_type": "error",
     "traceback": [
      "\u001b[0;31m---------------------------------------------------------------------------\u001b[0m",
      "\u001b[0;31mValueError\u001b[0m                                Traceback (most recent call last)",
      "\u001b[0;32m/tmp/ipykernel_82979/1524904563.py\u001b[0m in \u001b[0;36m<module>\u001b[0;34m\u001b[0m\n\u001b[1;32m      1\u001b[0m \u001b[0moption\u001b[0m \u001b[0;34m=\u001b[0m \u001b[0minput\u001b[0m\u001b[0;34m(\u001b[0m\u001b[0;34m'Select your month'\u001b[0m\u001b[0;34m)\u001b[0m\u001b[0;34m\u001b[0m\u001b[0;34m\u001b[0m\u001b[0m\n\u001b[1;32m      2\u001b[0m \u001b[0;31m# Cast input as integer\u001b[0m\u001b[0;34m\u001b[0m\u001b[0;34m\u001b[0m\u001b[0;34m\u001b[0m\u001b[0m\n\u001b[0;32m----> 3\u001b[0;31m \u001b[0moption_int\u001b[0m \u001b[0;34m=\u001b[0m \u001b[0mint\u001b[0m\u001b[0;34m(\u001b[0m\u001b[0moption\u001b[0m\u001b[0;34m)\u001b[0m\u001b[0;34m\u001b[0m\u001b[0;34m\u001b[0m\u001b[0m\n\u001b[0m\u001b[1;32m      4\u001b[0m \u001b[0;34m\u001b[0m\u001b[0m\n\u001b[1;32m      5\u001b[0m \u001b[0;32mif\u001b[0m \u001b[0moption_int\u001b[0m \u001b[0;34m==\u001b[0m \u001b[0;36m1\u001b[0m\u001b[0;34m:\u001b[0m\u001b[0;34m\u001b[0m\u001b[0;34m\u001b[0m\u001b[0m\n",
      "\u001b[0;31mValueError\u001b[0m: invalid literal for int() with base 10: ''"
     ]
    }
   ],
   "source": [
    "option = input('Select your month')\n",
    "# Cast input as integer\n",
    "option_int = int(option)\n",
    "\n",
    "if option_int == 1:\n",
    "    month = 'January'\n",
    "elif option_int == 2:\n",
    "    month = 'January'\n",
    "elif option_int == 3:\n",
    "    month = 'January'\n",
    "else:\n",
    "    month = 'Other'\n",
    "\n",
    "print(f'You selected {month}')"
   ]
  },
  {
   "cell_type": "markdown",
   "metadata": {
    "collapsed": false
   },
   "source": [
    "# ```for``` Statement\n",
    "\n",
    "The `for` loop are used to repeat several times something.\n",
    "\n",
    "Syntax:\n",
    "\n",
    "```python\n",
    "for {variable} in {something that is iterable}:  # <= note the `:`\n",
    "    {do something}\n",
    "```\n",
    "As an example, we can apply the code defined in the previous section to check if a list of numbers are odd or even:"
   ]
  },
  {
   "cell_type": "code",
   "execution_count": 3,
   "metadata": {
    "collapsed": false,
    "pycharm": {
     "name": "#%%\n"
    }
   },
   "outputs": [
    {
     "name": "stdout",
     "output_type": "stream",
     "text": [
      "1 is odd!\n",
      "2 is even!\n",
      "3 is odd!\n",
      "4 is even!\n",
      "5 is odd!\n",
      "6.5 is odd!\n",
      "7.0 is odd!\n"
     ]
    }
   ],
   "source": [
    "numbers = [1, 2, 3, 4, 5, 6.5, 7.0, ]\n",
    "\n",
    "for number in numbers:\n",
    "    print(f\"{number} is {'odd' if number % 2 else 'even'}!\")"
   ]
  },
  {
   "cell_type": "markdown",
   "metadata": {
    "collapsed": false
   },
   "source": [
    "It is possible to nest more for cycles together."
   ]
  },
  {
   "cell_type": "code",
   "execution_count": 4,
   "metadata": {
    "collapsed": false,
    "pycharm": {
     "name": "#%%\n"
    }
   },
   "outputs": [
    {
     "name": "stdout",
     "output_type": "stream",
     "text": [
      "1 is odd!\n",
      "2 is even!\n",
      "3 is odd!\n",
      "6 is even!\n",
      "5 is odd!\n",
      "10 is even!\n",
      "7 is odd!\n",
      "14 is even!\n"
     ]
    }
   ],
   "source": [
    "for odd in [1, 3, 5, 7]:\n",
    "    for even in [1, 2]:\n",
    "        number = odd * even\n",
    "        print(f\"{number} is {'odd' if number % 2 else 'even'}!\")\n"
   ]
  },
  {
   "cell_type": "markdown",
   "metadata": {
    "collapsed": false
   },
   "source": [
    "## List comprehension (optional)"
   ]
  },
  {
   "cell_type": "code",
   "execution_count": 5,
   "metadata": {
    "collapsed": false,
    "pycharm": {
     "name": "#%%\n"
    }
   },
   "outputs": [
   ],
   "source": [
    "colors = [\"red\", \"green\", \"blue\"]"
   ]
  },
  {
   "cell_type": "code",
   "execution_count": 6,
   "metadata": {
    "collapsed": false,
    "pycharm": {
     "name": "#%%\n"
    }
   },
   "outputs": [
    {
     "name": "stdout",
     "output_type": "stream",
     "text": [
      "[['red', 3], ['green', 5], ['blue', 4]]\n"
     ]
    }
   ],
   "source": [
    "myvar = [[color, len(color)] for color in colors]\n",
    "print(myvar)"
   ]
  },
  {
   "cell_type": "code",
   "execution_count": 7,
   "metadata": {
    "collapsed": false,
    "pycharm": {
     "name": "#%%\n"
    }
   },
   "outputs": [
    {
     "name": "stdout",
     "output_type": "stream",
     "text": [
      "[['red', 3], ['green', 5], ['blue', 4]]\n"
     ]
    }
   ],
   "source": [
    "myvar = []\n",
    "for color in colors:\n",
    "    myvar.append([color, len(color)])\n",
    "print(myvar)"
   ]
  },
  {
   "cell_type": "markdown",
   "metadata": {
    "collapsed": false
   },
   "source": [
    "List comprehension with an if condition"
   ]
  },
  {
   "cell_type": "code",
   "execution_count": 8,
   "metadata": {
    "collapsed": false,
    "pycharm": {
     "name": "#%%\n"
    }
   },
   "outputs": [
    {
     "data": {
      "text/plain": [
       "[['green', 5], ['blue', 4]]"
      ]
     },
     "execution_count": 8,
     "metadata": {
     },
     "output_type": "execute_result"
    }
   ],
   "source": [
    "[[color, len(color)] for color in colors if len(color) > 3]"
   ]
  },
  {
   "cell_type": "code",
   "execution_count": 9,
   "metadata": {
    "collapsed": false,
    "pycharm": {
     "name": "#%%\n"
    }
   },
   "outputs": [
    {
     "name": "stdout",
     "output_type": "stream",
     "text": [
      "[['green', 5], ['blue', 4]]\n"
     ]
    }
   ],
   "source": [
    "myvar = []\n",
    "for color in colors:\n",
    "    if len(color) > 3:\n",
    "        myvar.append([color, len(color)])\n",
    "print(myvar)"
   ]
  },
  {
   "cell_type": "markdown",
   "metadata": {
    "collapsed": false
   },
   "source": [
    "We can define also nested cycles:"
   ]
  },
  {
   "cell_type": "code",
   "execution_count": 10,
   "metadata": {
    "collapsed": false,
    "pycharm": {
     "name": "#%%\n"
    }
   },
   "outputs": [
   ],
   "source": [
    "myvar = [[i, j] for i in [1, 3, 5] for j in [2, 4, 6]]"
   ]
  },
  {
   "cell_type": "code",
   "execution_count": 11,
   "metadata": {
    "collapsed": false,
    "pycharm": {
     "name": "#%%\n"
    }
   },
   "outputs": [
    {
     "name": "stdout",
     "output_type": "stream",
     "text": [
      "[[1, 2], [1, 4], [1, 6], [3, 2], [3, 4], [3, 6], [5, 2], [5, 4], [5, 6]]\n"
     ]
    }
   ],
   "source": [
    "myvar = []\n",
    "for i in [1, 3, 5]:\n",
    "    for j in [2, 4, 6]:\n",
    "        myvar.append([i, j])\n",
    "print(myvar)"
   ]
  },
  {
   "cell_type": "code",
   "execution_count": 12,
   "metadata": {
    "collapsed": false,
    "pycharm": {
     "name": "#%%\n"
    }
   },
   "outputs": [
   ],
   "source": [
    "myvar = [[[i, j] for i in [1, 3, 5]] for j in [2, 4, 6]]"
   ]
  },
  {
   "cell_type": "code",
   "execution_count": 13,
   "metadata": {
    "collapsed": false,
    "pycharm": {
     "name": "#%%\n"
    }
   },
   "outputs": [
    {
     "name": "stdout",
     "output_type": "stream",
     "text": [
      "[[[1, 2], [1, 4], [1, 6]], [[3, 2], [3, 4], [3, 6]], [[5, 2], [5, 4], [5, 6]]]\n"
     ]
    }
   ],
   "source": [
    "myvar = []\n",
    "for i in [1, 3, 5]:\n",
    "    innerlist = []\n",
    "    for j in [2, 4, 6]:\n",
    "        innerlist.append([i, j])\n",
    "    myvar.append(innerlist)\n",
    "print(myvar)"
   ]
  },
  {
   "cell_type": "markdown",
   "metadata": {
    "collapsed": false
   },
   "source": [
    "# ```while``` Statement\n",
    "Loop that will be executed as long as the condition is true.\n",
    "\n",
    "Syntax:\n",
    "```python\n",
    "while {condition}:\n",
    "    {do something}\n",
    "```"
   ]
  },
  {
   "cell_type": "code",
   "execution_count": 14,
   "metadata": {
    "collapsed": false,
    "pycharm": {
     "name": "#%%\n"
    }
   },
   "outputs": [
    {
     "name": "stdout",
     "output_type": "stream",
     "text": [
      "\n",
      "a\n",
      "aa\n",
      "aaa\n"
     ]
    }
   ],
   "source": [
    "# initialize a variable\n",
    "x = 0\n",
    "# condition, break the cycle when False\n",
    "while x < 4:\n",
    "    print('a' * x)\n",
    "    x += 1\n"
   ]
  },
  {
   "cell_type": "code",
   "execution_count": 0,
   "metadata": {
    "collapsed": false
   },
   "outputs": [
   ],
   "source": [
   ]
  }
 ],
 "metadata": {
  "kernelspec": {
   "display_name": "Python 3 (Ubuntu Linux)",
   "language": "python",
   "name": "python3-ubuntu",
   "resource_dir": "/usr/local/share/jupyter/kernels/python3-ubuntu"
  },
  "language_info": {
   "codemirror_mode": {
    "name": "ipython",
    "version": 3
   },
   "file_extension": ".py",
   "mimetype": "text/x-python",
   "name": "python",
   "nbconvert_exporter": "python",
   "pygments_lexer": "ipython3",
   "version": "3.8.2"
  }
 },
 "nbformat": 4,
 "nbformat_minor": 4
}